{
 "cells": [
  {
   "cell_type": "markdown",
   "metadata": {},
   "source": [
    "## Event Data Analytics Exercise"
   ]
  },
  {
   "cell_type": "markdown",
   "metadata": {},
   "source": [
    "The exercise is to undertake analysis of event data very similar to the data analysed within the Tobii ATEX project. \n",
    "The data is received as a stream of events related to an individuals browsing behaviour, with each event having a number\n",
    "of properties which describe the users browsing.\n",
    "<br>\n",
    "\n",
    "We would encourage you to work on three analytical questions and explore the data to try and answer them. When working\n",
    "on these questions we are particularly interested in your approach and conclusions along with your analysis. Suggestions\n",
    "of questions to analyse appear at the bottom of this document. Please choose the questions as follows:\n",
    "    \n",
    "    1. Answer one of the `Analytical Question Suggestions`\n",
    "    2. Answer one of the `Modeling Question Suggestions`\n",
    "    3. Answer one  question of your own design which you find interesting\n",
    "\n",
    "<br>\n",
    "The data itself can be found in the file `sample_data_190819.tar.gz`. As part of your interview with Tobii\n",
    "we will ask you to present your analysis and we will discuss this for a period of one hour.\n",
    "<br>"
   ]
  },
  {
   "cell_type": "markdown",
   "metadata": {},
   "source": [
    "### FAQ's\n",
    "\n",
    "1. Do I have to conduct this in Python or complete the analysis in a jupyter notebook?. <br> \n",
    "_No we would encourage you to undertake the analysis in a language, tool or environment you feel comfortable using_\n",
    "a jupyter notebook in python has only been used here to help illustrate the task<br> \n",
    "\n",
    "1. Should I just limit this analysis to 3 questions and how long should I spend?. <br> \n",
    "_We would encourage you to only complete 3 tasks as written above, the tasks are broad enough to allow you to explore\n",
    "the data and the analysis should be short enough to discuss within 1 hour_"
   ]
  },
  {
   "cell_type": "markdown",
   "metadata": {},
   "source": [
    "### Event Data Model\n",
    "\n",
    "The event data can be found within the file `sample_data_120819.tar.gz. It contains the following fields:\n",
    "    \n",
    "- `event_time_stamp` :- ISO formatted timestamp of when the event occured **[timestamp]**\n",
    "- `beacon_id` :- id for the beacon this event is related too **[str] **\n",
    "- `content_type` :- content_type of the event **[categorical str]**\n",
    "- `content`:- content object containing descriptors of the event  **[JSON object]**\n",
    "    \n",
    "<br>\n",
    "\n",
    "In order to understand these events it is important to note that they desrcibe the behaviour of **beacons** which appear\n",
    "within an individuals browsing sessions. A **beacon** is an area of the website that a user is browsing, which is of\n",
    "interest to the ATEX project, normally an advertisement. We monitor these advertisements and record the following events\n",
    "for them (which can be found as the variable `content-type` in the attached dataset):\n",
    "\n",
    "* `application/vnd.tobii.atex.beacon-detected-event-v1+json`:- initial rendering of the beacon on the webpage\n",
    "* `application/vnd.tobii.atex.beacon-updated-event-v1+json`:- the beacon is modified, normally html changes\n",
    "* `application/vnd.tobii.atex.beacon-removed-event-v1+json`:- the beacon is removed from the webpage\n",
    "* `application/vnd.tobii.atex.beacon-in-view-event-v1+json`:- the beacon becomes visible within the individuals screen\n",
    "\n",
    "\n",
    "There is also a final content-type `application/vnd.tobii.atex.session-started-event-v1+json` which is not associated\n",
    "with a beaco. This event is triggered when a new url being is loaded in the browser. This defines a new **session** within the data. These\n",
    "two concepts **sessions** and **beacons** are related by a hierarchy where every beacon should be assoicated with a \n",
    "session.\n"
   ]
  },
  {
   "cell_type": "markdown",
   "metadata": {},
   "source": [
    "### Example Initial Analysis"
   ]
  },
  {
   "cell_type": "markdown",
   "metadata": {},
   "source": [
    "The following cells contain a simple initial analysis of the data to illustrate how you might proceed to analyse the data."
   ]
  },
  {
   "cell_type": "markdown",
   "metadata": {},
   "source": [
    "Some useful python libraries for analysis are imported and the data loaded into the notebook"
   ]
  },
  {
   "cell_type": "code",
   "execution_count": 82,
   "metadata": {},
   "outputs": [],
   "source": [
    "# The commands in this cell should be run if you do not have the required python packages in your environment\n",
    "#import sys\n",
    "#!{sys.executable} -m pip install numpy\n",
    "#!{sys.executable} -m pip install matplotlib\n",
    "#!{sys.executable} -m pip install pandas"
   ]
  },
  {
   "cell_type": "code",
   "execution_count": 83,
   "metadata": {},
   "outputs": [],
   "source": [
    "import pandas as pd\n",
    "import numpy as np"
   ]
  },
  {
   "cell_type": "code",
   "execution_count": 84,
   "metadata": {},
   "outputs": [],
   "source": [
    "df = pd.read_csv('sample_data_190819.csv')"
   ]
  },
  {
   "cell_type": "markdown",
   "metadata": {},
   "source": [
    "Before proceeding to analyse the data we view it to check it is loaded correctly and get a feel od the data we have."
   ]
  },
  {
   "cell_type": "code",
   "execution_count": 85,
   "metadata": {},
   "outputs": [
    {
     "data": {
      "text/html": [
       "<div>\n",
       "<style scoped>\n",
       "    .dataframe tbody tr th:only-of-type {\n",
       "        vertical-align: middle;\n",
       "    }\n",
       "\n",
       "    .dataframe tbody tr th {\n",
       "        vertical-align: top;\n",
       "    }\n",
       "\n",
       "    .dataframe thead th {\n",
       "        text-align: right;\n",
       "    }\n",
       "</style>\n",
       "<table border=\"1\" class=\"dataframe\">\n",
       "  <thead>\n",
       "    <tr style=\"text-align: right;\">\n",
       "      <th></th>\n",
       "      <th>event_time_stamp</th>\n",
       "      <th>beacon_id</th>\n",
       "      <th>content_type</th>\n",
       "      <th>content</th>\n",
       "    </tr>\n",
       "  </thead>\n",
       "  <tbody>\n",
       "    <tr>\n",
       "      <th>0</th>\n",
       "      <td>2019-08-19 10:12:30.854 Europe/Stockholm</td>\n",
       "      <td>NaN</td>\n",
       "      <td>application/vnd.tobii.atex.session-started-eve...</td>\n",
       "      <td>{\"geo\":{\"country\":{\"name\":\"Sweden\",\"iso_3166_1...</td>\n",
       "    </tr>\n",
       "    <tr>\n",
       "      <th>1</th>\n",
       "      <td>2019-08-19 10:12:43.505 Europe/Stockholm</td>\n",
       "      <td>NaN</td>\n",
       "      <td>application/vnd.tobii.atex.session-started-eve...</td>\n",
       "      <td>{\"geo\":{\"country\":{\"name\":\"Sweden\",\"iso_3166_1...</td>\n",
       "    </tr>\n",
       "    <tr>\n",
       "      <th>2</th>\n",
       "      <td>2019-08-19 10:12:50.689 Europe/Stockholm</td>\n",
       "      <td>NaN</td>\n",
       "      <td>application/vnd.tobii.atex.session-started-eve...</td>\n",
       "      <td>{\"geo\":{\"country\":{\"name\":\"Sweden\",\"iso_3166_1...</td>\n",
       "    </tr>\n",
       "    <tr>\n",
       "      <th>3</th>\n",
       "      <td>2019-08-19 10:13:01.101 Europe/Stockholm</td>\n",
       "      <td>NaN</td>\n",
       "      <td>application/vnd.tobii.atex.session-started-eve...</td>\n",
       "      <td>{\"geo\":{\"country\":{\"name\":\"Sweden\",\"iso_3166_1...</td>\n",
       "    </tr>\n",
       "    <tr>\n",
       "      <th>4</th>\n",
       "      <td>2019-08-19 10:13:08.773 Europe/Stockholm</td>\n",
       "      <td>NaN</td>\n",
       "      <td>application/vnd.tobii.atex.session-started-eve...</td>\n",
       "      <td>{\"geo\":{\"country\":{\"name\":\"Sweden\",\"iso_3166_1...</td>\n",
       "    </tr>\n",
       "  </tbody>\n",
       "</table>\n",
       "</div>"
      ],
      "text/plain": [
       "                           event_time_stamp beacon_id  \\\n",
       "0  2019-08-19 10:12:30.854 Europe/Stockholm       NaN   \n",
       "1  2019-08-19 10:12:43.505 Europe/Stockholm       NaN   \n",
       "2  2019-08-19 10:12:50.689 Europe/Stockholm       NaN   \n",
       "3  2019-08-19 10:13:01.101 Europe/Stockholm       NaN   \n",
       "4  2019-08-19 10:13:08.773 Europe/Stockholm       NaN   \n",
       "\n",
       "                                        content_type  \\\n",
       "0  application/vnd.tobii.atex.session-started-eve...   \n",
       "1  application/vnd.tobii.atex.session-started-eve...   \n",
       "2  application/vnd.tobii.atex.session-started-eve...   \n",
       "3  application/vnd.tobii.atex.session-started-eve...   \n",
       "4  application/vnd.tobii.atex.session-started-eve...   \n",
       "\n",
       "                                             content  \n",
       "0  {\"geo\":{\"country\":{\"name\":\"Sweden\",\"iso_3166_1...  \n",
       "1  {\"geo\":{\"country\":{\"name\":\"Sweden\",\"iso_3166_1...  \n",
       "2  {\"geo\":{\"country\":{\"name\":\"Sweden\",\"iso_3166_1...  \n",
       "3  {\"geo\":{\"country\":{\"name\":\"Sweden\",\"iso_3166_1...  \n",
       "4  {\"geo\":{\"country\":{\"name\":\"Sweden\",\"iso_3166_1...  "
      ]
     },
     "execution_count": 85,
     "metadata": {},
     "output_type": "execute_result"
    }
   ],
   "source": [
    "df.head()"
   ]
  },
  {
   "cell_type": "code",
   "execution_count": 86,
   "metadata": {},
   "outputs": [
    {
     "data": {
      "text/html": [
       "<div>\n",
       "<style scoped>\n",
       "    .dataframe tbody tr th:only-of-type {\n",
       "        vertical-align: middle;\n",
       "    }\n",
       "\n",
       "    .dataframe tbody tr th {\n",
       "        vertical-align: top;\n",
       "    }\n",
       "\n",
       "    .dataframe thead th {\n",
       "        text-align: right;\n",
       "    }\n",
       "</style>\n",
       "<table border=\"1\" class=\"dataframe\">\n",
       "  <thead>\n",
       "    <tr style=\"text-align: right;\">\n",
       "      <th></th>\n",
       "      <th>event_time_stamp</th>\n",
       "      <th>beacon_id</th>\n",
       "      <th>content_type</th>\n",
       "      <th>content</th>\n",
       "    </tr>\n",
       "  </thead>\n",
       "  <tbody>\n",
       "    <tr>\n",
       "      <th>count</th>\n",
       "      <td>2910</td>\n",
       "      <td>2324</td>\n",
       "      <td>2910</td>\n",
       "      <td>2910</td>\n",
       "    </tr>\n",
       "    <tr>\n",
       "      <th>unique</th>\n",
       "      <td>1495</td>\n",
       "      <td>1183</td>\n",
       "      <td>5</td>\n",
       "      <td>2910</td>\n",
       "    </tr>\n",
       "    <tr>\n",
       "      <th>top</th>\n",
       "      <td>2019-08-13 21:33:21.336 Europe/Stockholm</td>\n",
       "      <td>0be56815-1065-4d17-8c5d-aef1e0bd3b10</td>\n",
       "      <td>application/vnd.tobii.atex.beacon-detected-eve...</td>\n",
       "      <td>{\"request\":{\"headers\":{\"x-forward-cloudfront-f...</td>\n",
       "    </tr>\n",
       "    <tr>\n",
       "      <th>freq</th>\n",
       "      <td>17</td>\n",
       "      <td>9</td>\n",
       "      <td>1182</td>\n",
       "      <td>1</td>\n",
       "    </tr>\n",
       "  </tbody>\n",
       "</table>\n",
       "</div>"
      ],
      "text/plain": [
       "                                event_time_stamp  \\\n",
       "count                                       2910   \n",
       "unique                                      1495   \n",
       "top     2019-08-13 21:33:21.336 Europe/Stockholm   \n",
       "freq                                          17   \n",
       "\n",
       "                                   beacon_id  \\\n",
       "count                                   2324   \n",
       "unique                                  1183   \n",
       "top     0be56815-1065-4d17-8c5d-aef1e0bd3b10   \n",
       "freq                                       9   \n",
       "\n",
       "                                             content_type  \\\n",
       "count                                                2910   \n",
       "unique                                                  5   \n",
       "top     application/vnd.tobii.atex.beacon-detected-eve...   \n",
       "freq                                                 1182   \n",
       "\n",
       "                                                  content  \n",
       "count                                                2910  \n",
       "unique                                               2910  \n",
       "top     {\"request\":{\"headers\":{\"x-forward-cloudfront-f...  \n",
       "freq                                                    1  "
      ]
     },
     "execution_count": 86,
     "metadata": {},
     "output_type": "execute_result"
    }
   ],
   "source": [
    "df.describe()"
   ]
  },
  {
   "cell_type": "markdown",
   "metadata": {},
   "source": [
    "This simple example analysis will look at the time distribution of events we have data for. \n",
    "\n",
    "The `event_time_stamp` column is currently formatted as an object and should be changed to a datetime? in order to\n",
    "allows us to manipulate and analyse it."
   ]
  },
  {
   "cell_type": "code",
   "execution_count": 87,
   "metadata": {},
   "outputs": [],
   "source": [
    "from datetime import datetime\n",
    "\n",
    "### convert the string timestamps into datetime objects for analysis\n",
    "def convert_to_datetime_hour(string, date_format='%Y-%m-%d %H:%M:%S.%f'):\n",
    "    tz_naive_string = string[:23]\n",
    "    datetime_string = datetime.strptime(tz_naive_string, date_format)\n",
    "    return datetime_string.replace(minute=0, second=0, microsecond=0)\n",
    "    \n",
    "df['datetime_hour'] = df['event_time_stamp'].apply(lambda x: convert_to_datetime_hour(x))"
   ]
  },
  {
   "cell_type": "code",
   "execution_count": 88,
   "metadata": {},
   "outputs": [
    {
     "name": "stdout",
     "output_type": "stream",
     "text": [
      "                  Hour  Number_Events\n",
      "0  2019-08-13 21:00:00            126\n",
      "1  2019-08-13 22:00:00              8\n",
      "2  2019-08-14 09:00:00            256\n",
      "3  2019-08-14 10:00:00             47\n",
      "4  2019-08-14 11:00:00              5\n",
      "5  2019-08-15 15:00:00              2\n",
      "6  2019-08-15 16:00:00             31\n",
      "7  2019-08-15 17:00:00            198\n",
      "8  2019-08-15 18:00:00             21\n",
      "9  2019-08-15 20:00:00            219\n",
      "10 2019-08-16 07:00:00             97\n",
      "11 2019-08-16 10:00:00             24\n",
      "12 2019-08-16 11:00:00             36\n",
      "13 2019-08-16 14:00:00            170\n",
      "14 2019-08-16 15:00:00            144\n",
      "15 2019-08-16 16:00:00            156\n",
      "16 2019-08-16 17:00:00             12\n",
      "17 2019-08-17 22:00:00             20\n",
      "18 2019-08-17 23:00:00             35\n",
      "19 2019-08-18 10:00:00             25\n",
      "20 2019-08-18 11:00:00             31\n",
      "21 2019-08-18 12:00:00            219\n",
      "22 2019-08-18 13:00:00            187\n",
      "23 2019-08-18 15:00:00            122\n",
      "24 2019-08-18 16:00:00            241\n",
      "25 2019-08-18 18:00:00             14\n",
      "26 2019-08-19 10:00:00             26\n",
      "27 2019-08-19 11:00:00             32\n",
      "28 2019-08-19 12:00:00             12\n",
      "29 2019-08-19 13:00:00            108\n",
      "30 2019-08-19 14:00:00              7\n",
      "31 2019-08-19 16:00:00             37\n",
      "32 2019-08-19 17:00:00             78\n",
      "33 2019-08-20 09:00:00              5\n",
      "34 2019-08-20 10:00:00              4\n",
      "35 2019-08-20 11:00:00              3\n",
      "36 2019-08-20 13:00:00             23\n",
      "37 2019-08-20 14:00:00             26\n",
      "38 2019-08-20 15:00:00            102\n",
      "39 2019-08-20 16:00:00              1\n"
     ]
    }
   ],
   "source": [
    "keep_columns = ['datetime_hour', 'content_type']\n",
    "# group the data set by 'datetime' object and count the number of events\n",
    "df_date_time = df.loc[:, keep_columns].groupby('datetime_hour').count().reset_index()\n",
    "df_date_time.columns = ['Hour', 'Number_Events']\n",
    "print(df_date_time)"
   ]
  },
  {
   "cell_type": "code",
   "execution_count": 89,
   "metadata": {},
   "outputs": [],
   "source": [
    "import matplotlib"
   ]
  },
  {
   "cell_type": "code",
   "execution_count": 90,
   "metadata": {},
   "outputs": [
    {
     "data": {
      "image/png": "[encoded data removed]",
      "text/plain": [
       "<Figure size 792x288 with 1 Axes>"
      ]
     },
     "metadata": {},
     "output_type": "display_data"
    }
   ],
   "source": [
    "import matplotlib.pyplot as plt\n",
    "# Will allow us to embed images in the notebook\n",
    "%matplotlib inline\n",
    "import seaborn as sns\n",
    "\n",
    "sns.set(rc={'figure.figsize':(11, 4)})\n",
    "df_date_time.plot(x='Hour', y='Number_Events', linewidth=0.5);\n",
    "plt.title(\"Number of events per hour\")\n",
    "plt.ylabel(\"Number of Events\")\n",
    "plt.xlabel(\"Hour\")\n",
    "plt.show()"
   ]
  },
  {
   "cell_type": "markdown",
   "metadata": {},
   "source": [
    "### Example JSON analysis\n",
    "\n",
    "This second example analysis shows how we might interogate the JSON `content` field in order to extract properties for\n",
    "analysis."
   ]
  },
  {
   "cell_type": "code",
   "execution_count": 91,
   "metadata": {},
   "outputs": [
    {
     "name": "stdout",
     "output_type": "stream",
     "text": [
      "<class 'pandas.core.frame.DataFrame'>\n",
      "RangeIndex: 2910 entries, 0 to 2909\n",
      "Data columns (total 5 columns):\n",
      "event_time_stamp    2910 non-null object\n",
      "beacon_id           2324 non-null object\n",
      "content_type        2910 non-null object\n",
      "content             2910 non-null object\n",
      "datetime_hour       2910 non-null datetime64[ns]\n",
      "dtypes: datetime64[ns](1), object(4)\n",
      "memory usage: 113.8+ KB\n"
     ]
    }
   ],
   "source": [
    "df.info()"
   ]
  },
  {
   "cell_type": "code",
   "execution_count": 92,
   "metadata": {},
   "outputs": [],
   "source": [
    "import json\n",
    "\n",
    "df['content_json'] = df['content'].apply(json.loads) #Creating a column with the JSON content\n",
    "df_content = pd.io.json.json_normalize(df['content_json']) #Helper function to create flat table from nested JSON\n"
   ]
  },
  {
   "cell_type": "code",
   "execution_count": 93,
   "metadata": {},
   "outputs": [],
   "source": [
    "# remove NA's from the browser hostname data\n",
    "df_hostname = df_content.loc[:,['browser.page.url.hostname', 'time.stamp']].dropna()\n",
    "# create an hourly column\n",
    "date_format='%Y-%m-%dT%H:%M:%S.%f'\n",
    "df_hostname['datetime_hour'] = df_hostname['time.stamp'].apply(lambda x: convert_to_datetime_hour(x, date_format))\n",
    "# renaming columns\n",
    "df_hostname.columns = ['Hostname', 'Datetime', 'Hour'] # grouping and counting events by hostname by hour\n"
   ]
  },
  {
   "cell_type": "code",
   "execution_count": 94,
   "metadata": {},
   "outputs": [],
   "source": [
    "sorted_df = df_hostname.groupby(['Hostname']).count().reset_index().sort_values(by=['Datetime'], ascending=False)\n",
    "sorted_df = sorted_df[0:5]"
   ]
  },
  {
   "cell_type": "code",
   "execution_count": 95,
   "metadata": {},
   "outputs": [
    {
     "data": {
      "text/plain": [
       "<matplotlib.axes._subplots.AxesSubplot at 0x11f86b550>"
      ]
     },
     "execution_count": 95,
     "metadata": {},
     "output_type": "execute_result"
    },
    {
     "data": {
      "image/png": "[encoded data removed]",
      "text/plain": [
       "<Figure size 792x288 with 1 Axes>"
      ]
     },
     "metadata": {},
     "output_type": "display_data"
    }
   ],
   "source": [
    "# plotting bar chart over time\n",
    "df_hostname_popular = df_hostname[df_hostname.Hostname.isin(sorted_df['Hostname'].unique())]\n",
    "df_hostname_popular.groupby(['Hour','Hostname']).size().unstack().plot(kind='bar', stacked='True')\n"
   ]
  },
  {
   "cell_type": "markdown",
   "metadata": {},
   "source": [
    "The following code prints out the content fields for a single `beacon-in-view-event` to illustrate the fields it contains. It should be noted that `beacon.meta.html`contains a large amount of html data to process."
   ]
  },
  {
   "cell_type": "code",
   "execution_count": 96,
   "metadata": {},
   "outputs": [
    {
     "name": "stdout",
     "output_type": "stream",
     "text": [
      "{'beacon': {'height': '94',\n",
      "            'id': 'cff73bae-7abc-44e3-ab35-3cd9eb6e64b6',\n",
      "            'in_view_ratio_percentile': '100',\n",
      "            'meta': {'ad': {'video': {'subtype': 'Overlay', 'type': 'Instream'},\n",
      "                            'youtubeformat': 'Overlay'},\n",
      "                     'html': '<div class=\"ytp-ad-image-overlay\" '\n",
      "                             'style=\"max-width: 728px;\"><div '\n",
      "                             'class=\"ytp-ad-overlay-ad-info-button-container\"><span '\n",
      "                             'class=\"ytp-ad-hover-text-button '\n",
      "                             'ytp-ad-info-hover-text-button\" '\n",
      "                             'id=\"ad-info-hover-text-button:1q\" '\n",
      "                             'style=\"\"><button class=\"ytp-ad-button '\n",
      "                             'ytp-ad-button-link ytp-ad-clickable\" '\n",
      "                             'id=\"button:1r\" style=\"\"><span '\n",
      "                             'class=\"ytp-ad-button-icon\"><svg fill=\"#fff\" '\n",
      "                             'height=\"100%\" version=\"1.1\" viewBox=\"0 0 48 48\" '\n",
      "                             'width=\"100%\"><path d=\"M0 0h48v48H0z\" '\n",
      "                             'fill=\"none\"></path><path d=\"M22 '\n",
      "                             '34h4V22h-4v12zm2-30C12.95 4 4 12.95 4 24s8.95 20 '\n",
      "                             '20 20 20-8.95 20-20S35.05 4 24 4zm0 36c-8.82 '\n",
      "                             '0-16-7.18-16-16S15.18 8 24 8s16 7.18 16 16-7.18 '\n",
      "                             '16-16 '\n",
      "                             '16zm-2-22h4v-4h-4v4z\"></path></svg></span></button><div '\n",
      "                             'class=\"ytp-ad-hover-text-container '\n",
      "                             'ytp-ad-info-hover-text-short\">Why this '\n",
      "                             'ad?</div></span></div><div '\n",
      "                             'class=\"ytp-ad-overlay-close-container\"><button '\n",
      "                             'class=\"ytp-ad-overlay-close-button\"><svg '\n",
      "                             'height=\"100%\" viewBox=\"0 0 24 24\" '\n",
      "                             'width=\"100%\"><path d=\"M19 6.41L17.59 5 12 10.59 '\n",
      "                             '6.41 5 5 6.41 10.59 12 5 17.59 6.41 19 12 13.41 '\n",
      "                             '17.59 19 19 17.59 13.41 12z\" '\n",
      "                             'fill=\"#fff\"></path></svg></button></div><div '\n",
      "                             'class=\"ytp-ad-overlay-image\"><img '\n",
      "                             'src=\"https://pagead2.googlesyndication.com/pagead/imgad?id=CICAgKDb4u_G5AEQ2AUYWjIIFp0QLMSTlBk\" '\n",
      "                             'width=\"728\" height=\"90\"></div></div>',\n",
      "                     'htmlbaseurl': 'https://www.youtube.com/',\n",
      "                     'text': '',\n",
      "                     'view_id': '6183ccae-e6e2-4e45-bbec-7484cc9af637'},\n",
      "            'parent_ids': [],\n",
      "            'tags': [],\n",
      "            'type': 'ad/youtube.com-watch-player-overlay-v1',\n",
      "            'width': '728',\n",
      "            'x': '143',\n",
      "            'y': '417'},\n",
      " 'browser': {'adblock_detected': False,\n",
      "             'client': {'height': '684',\n",
      "                        'scroll': {'x': '0', 'y': '0'},\n",
      "                        'width': '1440',\n",
      "                        'x': '0',\n",
      "                        'y': '79'},\n",
      "             'page': {'height': '2250',\n",
      "                      'url': {'host': 'www.youtube.com',\n",
      "                              'hostname': 'www.youtube.com',\n",
      "                              'href': 'https://www.youtube.com',\n",
      "                              'origin': 'https://www.youtube.com',\n",
      "                              'protocol': 'https:'},\n",
      "                      'width': '1440',\n",
      "                      'x': '0',\n",
      "                      'y': '79',\n",
      "                      'zoom_factor_percentile': '100'},\n",
      "             'screen': {'available': {'height': '812',\n",
      "                                      'left': '0',\n",
      "                                      'top': '23',\n",
      "                                      'width': '1440'},\n",
      "                        'height': '900',\n",
      "                        'orientation': {'angle': '0',\n",
      "                                        'type': 'landscape-primary'},\n",
      "                        'os_zoom_factor_percentile': '100',\n",
      "                        'pixel_ratio_percentile': '200',\n",
      "                        'width': '1440'},\n",
      "             'window': {'height': '812',\n",
      "                        'viewport': {'x': '0', 'y': '79'},\n",
      "                        'width': '1440',\n",
      "                        'x': '0',\n",
      "                        'y': '23'}},\n",
      " 'client': {'id': 'chrome-extension://jlinlkoiaifccncicmegnchnjiemnokg',\n",
      "            'installation_id': 'c74c5cfe-647b-42f0-8bd2-1f9222c68698',\n",
      "            'name': 'Tobii Pro Attention Panel (local)',\n",
      "            'version': '0.1.151.7928099'},\n",
      " 'duration': 'PT1S',\n",
      " 'experimental': {'http_block_detected': False,\n",
      "                  'http_block_urls': '[\"http://freegeoip.net\"]',\n",
      "                  'permissions_block_detected': False},\n",
      " 'eyetracker': {'configuration_valid': False,\n",
      "                'connected': False,\n",
      "                'detected': False},\n",
      " 'geo': {'city': {'name': 'Stockholm'},\n",
      "         'country': {'iso_3166_1_alpha_2': 'SE', 'name': 'Sweden'},\n",
      "         'region': {'name': 'Stockholm'}},\n",
      " 'id': 'c86365b1-ef70-4ab7-bf72-613ebc2ecee7',\n",
      " 'intersection': {'ratio_percentile': '100', 'threshold_percentile': '50'},\n",
      " 'ntp': {'in_sync': True, 'offset': '0'},\n",
      " 'platform': {'description': 'Chrome 76.0.3809.100 on OS X 10.14.0 64-bit',\n",
      "              'layout': 'Blink',\n",
      "              'name': 'Chrome',\n",
      "              'os': {'architecture': '64',\n",
      "                     'family': 'OS X',\n",
      "                     'version': '10.14.0'},\n",
      "              'ua': 'Mozilla/5.0 (Macintosh; Intel Mac OS X 10_14_0) '\n",
      "                    'AppleWebKit/537.36 (KHTML, like Gecko) '\n",
      "                    'Chrome/76.0.3809.100 Safari/537.36',\n",
      "              'version': '76.0.3809.100'},\n",
      " 'request': {'headers': {'accept': '*/*',\n",
      "                         'accept-encoding': 'gzip, deflate, br',\n",
      "                         'accept-language': 'en-GB,en-US;q=0.9,en;q=0.8',\n",
      "                         'cloudfront-forwarded-proto': 'https',\n",
      "                         'cloudfront-is-desktop-viewer': 'true',\n",
      "                         'cloudfront-is-mobile-viewer': 'false',\n",
      "                         'cloudfront-is-smarttv-viewer': 'false',\n",
      "                         'cloudfront-is-tablet-viewer': 'false',\n",
      "                         'cloudfront-viewer-country': 'SE',\n",
      "                         'content-length': '3457',\n",
      "                         'content-type': 'application/vnd.tobii.atex.beacon-in-view-event-v1+json',\n",
      "                         'host': 'i0r8i4mqd4.execute-api.eu-west-1.amazonaws.com',\n",
      "                         'origin': 'chrome-extension://jlinlkoiaifccncicmegnchnjiemnokg',\n",
      "                         'sec-fetch-mode': 'cors',\n",
      "                         'sec-fetch-site': 'cross-site',\n",
      "                         'user-agent': 'Mozilla/5.0 (Macintosh; Intel Mac OS X '\n",
      "                                       '10_14_0) AppleWebKit/537.36 (KHTML, '\n",
      "                                       'like Gecko) Chrome/76.0.3809.100 '\n",
      "                                       'Safari/537.36',\n",
      "                         'via': '2.0 '\n",
      "                                '05c02ade53b3395a9e9f2e8f66c7e4d1.cloudfront.net '\n",
      "                                '(CloudFront), 1.1 '\n",
      "                                'bb45ea5b3a4c19db9fecccf1bc9e803d.cloudfront.net '\n",
      "                                '(CloudFront)',\n",
      "                         'x-amz-cf-id': 'Gdfp1g6GAmcEOyHivF9QoVOtHiyAq6S21NxJ2cv8W099x_hCFvlIUg==',\n",
      "                         'x-amzn-apigateway-api-id': 'bkfx4gphe3',\n",
      "                         'x-amzn-trace-id': 'Self=1-5d556fa2-40569cac1ea0890090005acc;Root=1-5d556fa2-97fbe064b79b6e48c3744918',\n",
      "                         'x-forward-cloudfront-forwarded-proto': 'https',\n",
      "                         'x-forward-cloudfront-is-desktop-viewer': 'true',\n",
      "                         'x-forward-cloudfront-is-mobile-viewer': 'false',\n",
      "                         'x-forward-cloudfront-is-smarttv-viewer': 'false',\n",
      "                         'x-forward-cloudfront-is-tablet-viewer': 'false',\n",
      "                         'x-forward-cloudfront-viewer-country': 'SE',\n",
      "                         'x-forwarded-for': '84.217.178.135, 205.251.218.152, '\n",
      "                                            '108.128.162.40, 52.46.34.101',\n",
      "                         'x-forwarded-port': '443',\n",
      "                         'x-forwarded-proto': 'https'},\n",
      "             'method': 'POST'},\n",
      " 'session': {'id': 'b1fa013f-8063-4420-bd8f-255d602c9b95'},\n",
      " 'time': {'stamp': '2019-08-15T14:43:45.703Z',\n",
      "          'utc_offset': '120',\n",
      "          'zone': 'Europe/Stockholm'}}\n"
     ]
    }
   ],
   "source": [
    "#from pprint import pprint\n",
    "#pprint(json.loads(df[df['content_type'].isin([\"application/vnd.tobii.atex.beacon-in-view-event-v1+json\"])].iloc[0]['content']))"
   ]
  },
  {
   "cell_type": "markdown",
   "metadata": {},
   "source": [
    "### Analytical Question Suggestions\n",
    "\n"
   ]
  },
  {
   "cell_type": "markdown",
   "metadata": {},
   "source": [
    "1. Within the content JSON object there are a large number of interesting fields to extract and visualise such as the\n",
    "`beacon.height`, the `beacon.width` or the `browser.page.url.hostname`. Explore some of these variables graphically to\n",
    "understand the ads.\n",
    "\n",
    "1. There is a specific field within content `beacon.meta.html`, which contains the html code found within the beacon.\n",
    "You could explore using regular expressions or text mining to try and identify url's that are contained here.\n",
    "\n",
    "1. Given the different events it is possible to try and calculate some metrics which might be interesting. Each\n",
    "beacon_id should have a `beacon-detected-event-v1+json`, but only a fraction of these beacon_ids have a\n",
    "`atex.beacon-in-view-event-v1+json`. It is possible to calculate this fraction and possibly intersting to see how it \n",
    "varies for different websites.\n"
   ]
  },
  {
   "cell_type": "markdown",
   "metadata": {},
   "source": [
    "### Modelling Question Suggestions"
   ]
  },
  {
   "cell_type": "markdown",
   "metadata": {},
   "source": [
    "Although each event is quite large, there are not a huge number of distinct events to undertake prediction. However it\n",
    "is interesting to model which variables may be correlated and could act as predictors of others. Suggested models\n",
    "include.\n",
    "\n",
    "1. `Regression model`:- Counting the number of distinct beacons per session and predicting this number from a combination\n",
    "    of the website and time of day.\n",
    "    \n",
    "1. `Classification Model`:- Using the beacon_width or beacon_height, and the time of day to predict which website a beacon\n",
    "    appears on.\n",
    "    \n",
    "1. `Time Series Model`:- Calculating the number of beacons or number of sessions per hour and trying to see any periodicity\n",
    "    in this or predict this value for the next period."
   ]
  },
  {
   "cell_type": "code",
   "execution_count": null,
   "metadata": {},
   "outputs": [],
   "source": []
  }
 ],
 "metadata": {
  "kernelspec": {
   "display_name": "Python 3",
   "language": "python",
   "name": "python3"
  },
  "language_info": {
   "codemirror_mode": {
    "name": "ipython",
    "version": 3
   },
   "file_extension": ".py",
   "mimetype": "text/x-python",
   "name": "python",
   "nbconvert_exporter": "python",
   "pygments_lexer": "ipython3",
   "version": "3.6.3"
  }
 },
 "nbformat": 4,
 "nbformat_minor": 2
}
